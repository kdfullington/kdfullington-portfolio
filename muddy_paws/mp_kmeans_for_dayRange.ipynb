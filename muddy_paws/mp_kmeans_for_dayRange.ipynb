{
 "cells": [
  {
   "cell_type": "code",
   "execution_count": null,
   "metadata": {},
   "outputs": [],
   "source": [
    "import pandas as pd"
   ]
  },
  {
   "cell_type": "code",
   "execution_count": null,
   "metadata": {},
   "outputs": [],
   "source": [
    "df = pd.read_csv('final_base_cleaned.csv')\n",
    "# df_draft5.csv"
   ]
  },
  {
   "cell_type": "code",
   "execution_count": null,
   "metadata": {},
   "outputs": [],
   "source": [
    "import numpy as np\n",
    "from sklearn.cluster import KMeans\n",
    "from sklearn.preprocessing import StandardScaler"
   ]
  },
  {
   "cell_type": "code",
   "execution_count": null,
   "metadata": {},
   "outputs": [],
   "source": [
    "data = df[['length_of_stay_days']]\n",
    "\n",
    "# Standardize the data\n",
    "scaler = StandardScaler()\n",
    "data_scaled = scaler.fit_transform(data)"
   ]
  },
  {
   "cell_type": "code",
   "execution_count": null,
   "metadata": {},
   "outputs": [
    {
     "data": {
      "text/plain": [
       "1807"
      ]
     },
     "metadata": {},
     "output_type": "display_data"
    }
   ],
   "source": [
    "df.length_of_stay_days.max()"
   ]
  },
  {
   "cell_type": "code",
   "execution_count": null,
   "metadata": {},
   "outputs": [],
   "source": [
    "# Choose the number of clusters (k)\n",
    "kmeans = KMeans(n_clusters = 10, random_state = 42, n_init = 10)\n",
    "df['length_of_stay_cluster'] = kmeans.fit_predict(data_scaled)"
   ]
  },
  {
   "cell_type": "code",
   "execution_count": null,
   "metadata": {},
   "outputs": [
    {
     "name": "stdout",
     "output_type": "stream",
     "text": [
      "[[ 102.04807692]\n",
      " [1024.        ]\n",
      " [  19.36927772]\n",
      " [ 411.375     ]\n",
      " [1612.28571429]\n",
      " [  55.99165275]\n",
      " [ 277.20930233]\n",
      " [ 566.875     ]\n",
      " [ 166.39361702]\n",
      " [ 774.5       ]]\n"
     ]
    }
   ],
   "source": [
    "# # View the cluster centers (representing the ideal ranges)\n",
    "# cluster_centers = kmeans.cluster_centers_\n",
    "# print(cluster_centers)\n",
    "\n",
    "# View the cluster centers\n",
    "cluster_centers_scaled = scaler.inverse_transform(kmeans.cluster_centers_)\n",
    "print(cluster_centers_scaled)"
   ]
  },
  {
   "cell_type": "code",
   "execution_count": null,
   "metadata": {},
   "outputs": [],
   "source": []
  }
 ],
 "metadata": {
  "language_info": {
   "name": "python"
  }
 },
 "nbformat": 4,
 "nbformat_minor": 2
}
