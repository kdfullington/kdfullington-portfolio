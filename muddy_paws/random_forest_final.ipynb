{
 "cells": [
  {
   "cell_type": "code",
   "execution_count": 16,
   "metadata": {},
   "outputs": [],
   "source": [
    "import pandas as pd"
   ]
  },
  {
   "cell_type": "code",
   "execution_count": 17,
   "metadata": {},
   "outputs": [],
   "source": [
    "import warnings\n",
    "\n",
    "# Suppressing warnings for metrics due to nature of data set\n",
    "warnings.filterwarnings(\"ignore\", category = UserWarning, module = \"sklearn.metrics._classification\")"
   ]
  },
  {
   "cell_type": "code",
   "execution_count": 18,
   "metadata": {},
   "outputs": [],
   "source": [
    "df = pd.read_csv('final_cleaned.csv')"
   ]
  },
  {
   "cell_type": "markdown",
   "metadata": {},
   "source": [
    "Kmeans center accuracies\n",
    "- 20: 0.33\n",
    "- 15: 0.46\n",
    "- 10: 0.64\n",
    "- 9: 0.63\n",
    "- 8: 0.64"
   ]
  },
  {
   "cell_type": "code",
   "execution_count": 19,
   "metadata": {},
   "outputs": [],
   "source": [
    "df['length_of_stay_category'] = ''"
   ]
  },
  {
   "cell_type": "code",
   "execution_count": 20,
   "metadata": {},
   "outputs": [],
   "source": [
    "## 10 centers\n",
    "# Add new column, length of stay categories\n",
    "bins = [19, 56, 102, 166, 277, 411, 567, 774, 1024, 1612, float('inf')]\n",
    "labels = ['0-19', '20-56', '57-102', '103-166', '167-277', '278-411', '412-567', '568-774', '775-1024', '1025-1612']\n",
    "\n",
    "df['length_of_stay_category'] = pd.cut(df.length_of_stay_days, bins = bins, labels = labels, right = False)"
   ]
  },
  {
   "cell_type": "code",
   "execution_count": 21,
   "metadata": {},
   "outputs": [],
   "source": [
    "df = df.drop(['length_of_stay_days'], axis = 1)"
   ]
  },
  {
   "cell_type": "code",
   "execution_count": 22,
   "metadata": {},
   "outputs": [],
   "source": [
    "columns_to_exclude = ['length_of_stay_category', 'age_total_months', 'sentiment_score']\n",
    "df_dummies = pd.get_dummies(df, columns=[col for col in df.columns if col not in columns_to_exclude])\n",
    "df_dummies = df_dummies.dropna()"
   ]
  },
  {
   "cell_type": "code",
   "execution_count": 23,
   "metadata": {},
   "outputs": [],
   "source": [
    "# Import necessary libraries\n",
    "from sklearn.model_selection import train_test_split\n",
    "from sklearn.preprocessing import StandardScaler\n",
    "from sklearn.ensemble import RandomForestClassifier\n",
    "from sklearn.metrics import accuracy_score, classification_report\n",
    "\n",
    "from sklearn.decomposition import PCA\n"
   ]
  },
  {
   "cell_type": "code",
   "execution_count": 24,
   "metadata": {},
   "outputs": [],
   "source": [
    "# Separate features (X) and target variable (y)\n",
    "X = df_dummies.drop('length_of_stay_category', axis=1)\n",
    "y = df_dummies['length_of_stay_category']\n",
    "\n",
    "# Split the dataset into training and testing sets\n",
    "X_train, X_test, y_train, y_test = train_test_split(X, y, test_size = 0.2, train_size = 0.8, random_state = 42)\n",
    "\n",
    "# Standardize features (optional but can be beneficial for logistic regression)\n",
    "scaler = StandardScaler()\n",
    "X_train = scaler.fit_transform(X_train)\n",
    "X_test = scaler.transform(X_test)\n",
    "\n",
    "# Apply PCA\n",
    "# Choose the number of components you want to keep (here, 2 components)\n",
    "n_components = 10\n",
    "pca = PCA(n_components=n_components)\n",
    "X_train_pca = pca.fit_transform(X_train)\n",
    "X_test_pca = pca.transform(X_test)"
   ]
  },
  {
   "cell_type": "code",
   "execution_count": 25,
   "metadata": {},
   "outputs": [
    {
     "name": "stdout",
     "output_type": "stream",
     "text": [
      "Accuracy: 0.64\n",
      "Accuracy after PCA: 0.61\n"
     ]
    }
   ],
   "source": [
    "# Create a Random Forest Classifier\n",
    "rf_classifier_original = RandomForestClassifier(n_estimators = 1000, random_state=42)\n",
    "\n",
    "# Train the classifier on the training data\n",
    "rf_classifier_original.fit(X_train, y_train)\n",
    "\n",
    "# Make predictions on the test data\n",
    "y_pred_original = rf_classifier_original.predict(X_test)\n",
    "\n",
    "# Evaluate the performance of the classifier\n",
    "accuracy_original = accuracy_score(y_test, y_pred_original)\n",
    "print(f\"Accuracy: {accuracy_original:.2f}\")\n",
    "\n",
    "# Train a classifier on the PCA-transformed data\n",
    "rf_pca = RandomForestClassifier(n_estimators = 1000, random_state=42)\n",
    "rf_pca.fit(X_train_pca, y_train)\n",
    "y_pred_pca = rf_pca.predict(X_test_pca)\n",
    "accuracy_pca = accuracy_score(y_test, y_pred_pca)\n",
    "print(f'Accuracy after PCA: {accuracy_pca:.2f}')"
   ]
  },
  {
   "cell_type": "code",
   "execution_count": 26,
   "metadata": {},
   "outputs": [
    {
     "name": "stdout",
     "output_type": "stream",
     "text": [
      "Classification Report:\n",
      "               precision    recall  f1-score   support\n",
      "\n",
      "        0-19       0.63      0.94      0.76       143\n",
      "   1025-1612       0.00      0.00      0.00         1\n",
      "     103-166       0.00      0.00      0.00        12\n",
      "     167-277       0.00      0.00      0.00         3\n",
      "       20-56       0.69      0.48      0.57        79\n",
      "     278-411       0.00      0.00      0.00         3\n",
      "     412-567       0.00      0.00      0.00         5\n",
      "     568-774       1.00      1.00      1.00         1\n",
      "      57-102       0.50      0.08      0.13        26\n",
      "\n",
      "    accuracy                           0.64       273\n",
      "   macro avg       0.31      0.28      0.27       273\n",
      "weighted avg       0.58      0.64      0.58       273\n",
      "\n"
     ]
    }
   ],
   "source": [
    "# Display classification report\n",
    "print(\"Classification Report:\\n\", classification_report(y_test, y_pred_original))"
   ]
  },
  {
   "cell_type": "code",
   "execution_count": 27,
   "metadata": {},
   "outputs": [],
   "source": [
    "feature_importances = rf_classifier_original.feature_importances_"
   ]
  },
  {
   "cell_type": "code",
   "execution_count": 28,
   "metadata": {},
   "outputs": [],
   "source": [
    "feature_importance_df = pd.DataFrame({'Feature': X.columns, 'Importance':feature_importances})"
   ]
  },
  {
   "cell_type": "code",
   "execution_count": 29,
   "metadata": {},
   "outputs": [],
   "source": [
    "feature_importance_df = feature_importance_df.sort_values(by = 'Importance', ascending = False)"
   ]
  },
  {
   "cell_type": "code",
   "execution_count": 30,
   "metadata": {},
   "outputs": [
    {
     "data": {
      "text/html": [
       "<div>\n",
       "<style scoped>\n",
       "    .dataframe tbody tr th:only-of-type {\n",
       "        vertical-align: middle;\n",
       "    }\n",
       "\n",
       "    .dataframe tbody tr th {\n",
       "        vertical-align: top;\n",
       "    }\n",
       "\n",
       "    .dataframe thead th {\n",
       "        text-align: right;\n",
       "    }\n",
       "</style>\n",
       "<table border=\"1\" class=\"dataframe\">\n",
       "  <thead>\n",
       "    <tr style=\"text-align: right;\">\n",
       "      <th></th>\n",
       "      <th>Feature</th>\n",
       "      <th>Importance</th>\n",
       "    </tr>\n",
       "  </thead>\n",
       "  <tbody>\n",
       "    <tr>\n",
       "      <th>0</th>\n",
       "      <td>age_total_months</td>\n",
       "      <td>0.081462</td>\n",
       "    </tr>\n",
       "    <tr>\n",
       "      <th>127</th>\n",
       "      <td>gender_male</td>\n",
       "      <td>0.018870</td>\n",
       "    </tr>\n",
       "    <tr>\n",
       "      <th>126</th>\n",
       "      <td>gender_female</td>\n",
       "      <td>0.018104</td>\n",
       "    </tr>\n",
       "    <tr>\n",
       "      <th>158</th>\n",
       "      <td>litter_no</td>\n",
       "      <td>0.016156</td>\n",
       "    </tr>\n",
       "    <tr>\n",
       "      <th>159</th>\n",
       "      <td>litter_yes</td>\n",
       "      <td>0.015563</td>\n",
       "    </tr>\n",
       "    <tr>\n",
       "      <th>8</th>\n",
       "      <td>size_medium</td>\n",
       "      <td>0.015507</td>\n",
       "    </tr>\n",
       "    <tr>\n",
       "      <th>143</th>\n",
       "      <td>special_need_not sure</td>\n",
       "      <td>0.015176</td>\n",
       "    </tr>\n",
       "    <tr>\n",
       "      <th>139</th>\n",
       "      <td>housebroken_no</td>\n",
       "      <td>0.015060</td>\n",
       "    </tr>\n",
       "    <tr>\n",
       "      <th>7</th>\n",
       "      <td>size_large</td>\n",
       "      <td>0.014891</td>\n",
       "    </tr>\n",
       "    <tr>\n",
       "      <th>146</th>\n",
       "      <td>gets_along_with_cats_not sure</td>\n",
       "      <td>0.014847</td>\n",
       "    </tr>\n",
       "    <tr>\n",
       "      <th>140</th>\n",
       "      <td>housebroken_not sure</td>\n",
       "      <td>0.014789</td>\n",
       "    </tr>\n",
       "    <tr>\n",
       "      <th>153</th>\n",
       "      <td>gets_along_with_kids_yes</td>\n",
       "      <td>0.014728</td>\n",
       "    </tr>\n",
       "    <tr>\n",
       "      <th>129</th>\n",
       "      <td>is_mix_yes</td>\n",
       "      <td>0.014225</td>\n",
       "    </tr>\n",
       "    <tr>\n",
       "      <th>136</th>\n",
       "      <td>hypoallergenic_no</td>\n",
       "      <td>0.013928</td>\n",
       "    </tr>\n",
       "    <tr>\n",
       "      <th>142</th>\n",
       "      <td>special_need_no</td>\n",
       "      <td>0.013396</td>\n",
       "    </tr>\n",
       "    <tr>\n",
       "      <th>150</th>\n",
       "      <td>gets_along_with_dogs_yes</td>\n",
       "      <td>0.013327</td>\n",
       "    </tr>\n",
       "    <tr>\n",
       "      <th>141</th>\n",
       "      <td>housebroken_yes</td>\n",
       "      <td>0.013227</td>\n",
       "    </tr>\n",
       "    <tr>\n",
       "      <th>152</th>\n",
       "      <td>gets_along_with_kids_not sure</td>\n",
       "      <td>0.013037</td>\n",
       "    </tr>\n",
       "    <tr>\n",
       "      <th>202</th>\n",
       "      <td>primary_breed_pit bull terrier</td>\n",
       "      <td>0.012883</td>\n",
       "    </tr>\n",
       "    <tr>\n",
       "      <th>128</th>\n",
       "      <td>is_mix_no</td>\n",
       "      <td>0.012663</td>\n",
       "    </tr>\n",
       "  </tbody>\n",
       "</table>\n",
       "</div>"
      ],
      "text/plain": [
       "                            Feature  Importance\n",
       "0                  age_total_months    0.081462\n",
       "127                     gender_male    0.018870\n",
       "126                   gender_female    0.018104\n",
       "158                       litter_no    0.016156\n",
       "159                      litter_yes    0.015563\n",
       "8                       size_medium    0.015507\n",
       "143           special_need_not sure    0.015176\n",
       "139                  housebroken_no    0.015060\n",
       "7                        size_large    0.014891\n",
       "146   gets_along_with_cats_not sure    0.014847\n",
       "140            housebroken_not sure    0.014789\n",
       "153        gets_along_with_kids_yes    0.014728\n",
       "129                      is_mix_yes    0.014225\n",
       "136               hypoallergenic_no    0.013928\n",
       "142                 special_need_no    0.013396\n",
       "150        gets_along_with_dogs_yes    0.013327\n",
       "141                 housebroken_yes    0.013227\n",
       "152   gets_along_with_kids_not sure    0.013037\n",
       "202  primary_breed_pit bull terrier    0.012883\n",
       "128                       is_mix_no    0.012663"
      ]
     },
     "execution_count": 30,
     "metadata": {},
     "output_type": "execute_result"
    }
   ],
   "source": [
    "feature_importance_df.head(20)"
   ]
  },
  {
   "cell_type": "code",
   "execution_count": null,
   "metadata": {},
   "outputs": [],
   "source": []
  }
 ],
 "metadata": {
  "kernelspec": {
   "display_name": "Python 3",
   "language": "python",
   "name": "python3"
  },
  "language_info": {
   "codemirror_mode": {
    "name": "ipython",
    "version": 3
   },
   "file_extension": ".py",
   "mimetype": "text/x-python",
   "name": "python",
   "nbconvert_exporter": "python",
   "pygments_lexer": "ipython3",
   "version": "3.11.5"
  }
 },
 "nbformat": 4,
 "nbformat_minor": 2
}
