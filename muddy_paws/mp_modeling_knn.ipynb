{
 "cells": [
  {
   "cell_type": "code",
   "execution_count": null,
   "metadata": {},
   "outputs": [],
   "source": [
    "import pandas as pd"
   ]
  },
  {
   "cell_type": "code",
   "execution_count": null,
   "metadata": {},
   "outputs": [],
   "source": [
    "df = pd.read_csv('df_draft4.csv')"
   ]
  },
  {
   "cell_type": "code",
   "execution_count": null,
   "metadata": {},
   "outputs": [],
   "source": [
    "pd.set_option('display.max_columns', None)"
   ]
  },
  {
   "cell_type": "code",
   "execution_count": null,
   "metadata": {},
   "outputs": [],
   "source": [
    "cols_to_drop = [\n",
    "    'date_pet_entered_your_care',\n",
    "    'adoption_foster_date',\n",
    "    'last_status_change',\n",
    "    'petstablished_id',\n",
    "    'weight',\n",
    "    'color',\n",
    "    'date_placed_in_current_location',\n",
    "    'microchip_id',\n",
    "    'microchip_manufacturer',\n",
    "    'internal_id',\n",
    "    'animal_control_id',\n",
    "    'last_updated_at',\n",
    "    'acquired_by',\n",
    "    'date_of_birth',\n",
    "    'coat_pattern',\n",
    "    'description',\n",
    "    'internal_notes',\n",
    "    'behavioral_tracking_notes',\n",
    "    'where_was_pet_originally_found',\n",
    "    'rabies_issue_date',\n",
    "    'additional_comments',\n",
    "    'additional_internal_comments',\n",
    "    'euthanasia_date',\n",
    "    'euthanasia_reason',\n",
    "    'date_transferred',\n",
    "    'deceased_date',\n",
    "    'expected_euthanasia_date', \n",
    "    'declawed_status',\n",
    "    'owner_requested_euthanasia',\n",
    "    'petstablished_id',\n",
    "    'siblings', \n",
    "    'parents', \n",
    "    'age_total_years'\n",
    "]"
   ]
  },
  {
   "cell_type": "code",
   "execution_count": null,
   "metadata": {},
   "outputs": [],
   "source": [
    "df = df.drop(columns = cols_to_drop, axis = 1)"
   ]
  },
  {
   "cell_type": "code",
   "execution_count": null,
   "metadata": {},
   "outputs": [],
   "source": [
    "# Add new column, length of stay categories, with a range instead of an exact value (0-30, 31-50, 51-100, 101-150, 151-200, 201-250, 251-300, 301-400, 400+)\n",
    "bins = [0, 30, 50, 100, 150, 200, 250, 300, 350, 400, float('inf')]\n",
    "labels = ['0-30', '31-50', '51-100', '101-150', '151-200', '201-250', '251-300', '301-350', '351-400', '400+']\n",
    "\n",
    "df['length_of_stay_category'] = pd.cut(df.length_of_stay_days, bins = bins, labels = labels, right = False)\n",
    "\n",
    "df = df.drop(['length_of_stay_days'], axis = 1)"
   ]
  },
  {
   "cell_type": "code",
   "execution_count": null,
   "metadata": {},
   "outputs": [],
   "source": [
    "df = df.dropna(subset = ['age_total_months'])"
   ]
  },
  {
   "cell_type": "code",
   "execution_count": null,
   "metadata": {},
   "outputs": [],
   "source": [
    "categorical_columns = df.select_dtypes(include = ['object']).columns\n",
    "\n",
    "df_dummies = pd.get_dummies(df, columns = categorical_columns, prefix = categorical_columns)"
   ]
  },
  {
   "cell_type": "code",
   "execution_count": null,
   "metadata": {},
   "outputs": [],
   "source": [
    "# Import necessary libraries\n",
    "import numpy as np\n",
    "from sklearn.model_selection import train_test_split\n",
    "from sklearn.neighbors import KNeighborsClassifier\n",
    "from sklearn.metrics import accuracy_score\n",
    "from sklearn.preprocessing import StandardScaler"
   ]
  },
  {
   "cell_type": "code",
   "execution_count": null,
   "metadata": {},
   "outputs": [
    {
     "name": "stdout",
     "output_type": "stream",
     "text": [
      "Accuracy: 0.43\n"
     ]
    }
   ],
   "source": [
    "# Separate features (X) and target variable (y)\n",
    "X = df_dummies.drop('length_of_stay_category', axis=1)\n",
    "y = df_dummies['length_of_stay_category']\n",
    "\n",
    "# Split the data into training and testing sets\n",
    "X_train, X_test, y_train, y_test = train_test_split(X, y, test_size=0.2, random_state=42)\n",
    "\n",
    "# Standardize features (optional but can be beneficial for logistic regression)\n",
    "scaler = StandardScaler()\n",
    "X_train = scaler.fit_transform(X_train)\n",
    "X_test = scaler.transform(X_test)\n",
    "\n",
    "# Initialize the KNN classifier\n",
    "knn = KNeighborsClassifier(n_neighbors=3)\n",
    "\n",
    "# Train the classifier on the training data\n",
    "knn.fit(X_train, y_train)\n",
    "\n",
    "# Make predictions on the test data\n",
    "y_pred = knn.predict(X_test)\n",
    "\n",
    "# Evaluate the accuracy of the classifier\n",
    "accuracy = accuracy_score(y_test, y_pred)\n",
    "print(f\"Accuracy: {accuracy:.2f}\")"
   ]
  },
  {
   "cell_type": "code",
   "execution_count": null,
   "metadata": {},
   "outputs": [],
   "source": []
  },
  {
   "cell_type": "code",
   "execution_count": null,
   "metadata": {},
   "outputs": [],
   "source": []
  },
  {
   "cell_type": "code",
   "execution_count": null,
   "metadata": {},
   "outputs": [],
   "source": []
  },
  {
   "cell_type": "code",
   "execution_count": null,
   "metadata": {},
   "outputs": [],
   "source": []
  },
  {
   "cell_type": "code",
   "execution_count": null,
   "metadata": {},
   "outputs": [],
   "source": []
  },
  {
   "cell_type": "code",
   "execution_count": null,
   "metadata": {},
   "outputs": [],
   "source": []
  },
  {
   "cell_type": "code",
   "execution_count": null,
   "metadata": {},
   "outputs": [],
   "source": []
  },
  {
   "cell_type": "code",
   "execution_count": null,
   "metadata": {},
   "outputs": [],
   "source": []
  },
  {
   "cell_type": "code",
   "execution_count": null,
   "metadata": {},
   "outputs": [],
   "source": []
  },
  {
   "cell_type": "code",
   "execution_count": null,
   "metadata": {},
   "outputs": [],
   "source": []
  }
 ],
 "metadata": {
  "language_info": {
   "name": "python"
  }
 },
 "nbformat": 4,
 "nbformat_minor": 2
}
