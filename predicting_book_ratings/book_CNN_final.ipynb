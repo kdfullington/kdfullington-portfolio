{
 "cells": [
  {
   "cell_type": "code",
   "execution_count": 1,
   "metadata": {},
   "outputs": [
    {
     "name": "stdout",
     "output_type": "stream",
     "text": [
      "WARNING:tensorflow:From c:\\Users\\runek\\AppData\\Local\\Programs\\Python\\Python311\\Lib\\site-packages\\keras\\src\\losses.py:2976: The name tf.losses.sparse_softmax_cross_entropy is deprecated. Please use tf.compat.v1.losses.sparse_softmax_cross_entropy instead.\n",
      "\n"
     ]
    }
   ],
   "source": [
    "import pandas as pd\n",
    "import numpy as np\n",
    "import tensorflow as tf\n",
    "from tensorflow.keras import layers, models\n",
    "from tensorflow.keras.preprocessing.image import load_img, img_to_array\n",
    "from sklearn.model_selection import train_test_split\n",
    "from sklearn.preprocessing import StandardScaler"
   ]
  },
  {
   "cell_type": "code",
   "execution_count": 2,
   "metadata": {},
   "outputs": [],
   "source": [
    "import pandas as pd"
   ]
  },
  {
   "cell_type": "code",
   "execution_count": 3,
   "metadata": {},
   "outputs": [],
   "source": [
    "df = pd.read_csv('book_w_images.csv')"
   ]
  },
  {
   "cell_type": "code",
   "execution_count": 4,
   "metadata": {},
   "outputs": [
    {
     "data": {
      "text/html": [
       "<div>\n",
       "<style scoped>\n",
       "    .dataframe tbody tr th:only-of-type {\n",
       "        vertical-align: middle;\n",
       "    }\n",
       "\n",
       "    .dataframe tbody tr th {\n",
       "        vertical-align: top;\n",
       "    }\n",
       "\n",
       "    .dataframe thead th {\n",
       "        text-align: right;\n",
       "    }\n",
       "</style>\n",
       "<table border=\"1\" class=\"dataframe\">\n",
       "  <thead>\n",
       "    <tr style=\"text-align: right;\">\n",
       "      <th></th>\n",
       "      <th>author</th>\n",
       "      <th>bookformat</th>\n",
       "      <th>desc</th>\n",
       "      <th>img</th>\n",
       "      <th>isbn</th>\n",
       "      <th>isbn13</th>\n",
       "      <th>link</th>\n",
       "      <th>pages</th>\n",
       "      <th>rating</th>\n",
       "      <th>reviews</th>\n",
       "      <th>...</th>\n",
       "      <th>genre_11</th>\n",
       "      <th>genre_12</th>\n",
       "      <th>genre_13</th>\n",
       "      <th>genre_14</th>\n",
       "      <th>genre_15</th>\n",
       "      <th>genre_16</th>\n",
       "      <th>genre_17</th>\n",
       "      <th>genre_18</th>\n",
       "      <th>genre_19</th>\n",
       "      <th>cover_image</th>\n",
       "    </tr>\n",
       "  </thead>\n",
       "  <tbody>\n",
       "    <tr>\n",
       "      <th>0</th>\n",
       "      <td>Robert Reed</td>\n",
       "      <td>Paperback</td>\n",
       "      <td>ship traveled universe longer crew recall true...</td>\n",
       "      <td>https://i.gr-assets.com/images/S/compressed.ph...</td>\n",
       "      <td>812566572</td>\n",
       "      <td>9.780000e+12</td>\n",
       "      <td>https://goodreads.com/book/show/100208.Marrow</td>\n",
       "      <td>512</td>\n",
       "      <td>3.82</td>\n",
       "      <td>110</td>\n",
       "      <td>...</td>\n",
       "      <td>Science Fiction</td>\n",
       "      <td>Aliens</td>\n",
       "      <td>Speculative Fiction</td>\n",
       "      <td>NaN</td>\n",
       "      <td>NaN</td>\n",
       "      <td>NaN</td>\n",
       "      <td>NaN</td>\n",
       "      <td>NaN</td>\n",
       "      <td>NaN</td>\n",
       "      <td>cover_images/processed_image_111.jpg</td>\n",
       "    </tr>\n",
       "    <tr>\n",
       "      <th>1</th>\n",
       "      <td>Wu Cheng'en,Arthur Waley,Hu Shih</td>\n",
       "      <td>Paperback</td>\n",
       "      <td>probably popular book history far east classic...</td>\n",
       "      <td>https://i.gr-assets.com/images/S/compressed.ph...</td>\n",
       "      <td>802130860</td>\n",
       "      <td>9.780000e+12</td>\n",
       "      <td>https://goodreads.com/book/show/100237.Monkey</td>\n",
       "      <td>306</td>\n",
       "      <td>4.02</td>\n",
       "      <td>552</td>\n",
       "      <td>...</td>\n",
       "      <td>Asia</td>\n",
       "      <td>Novels</td>\n",
       "      <td>Adventure</td>\n",
       "      <td>NaN</td>\n",
       "      <td>NaN</td>\n",
       "      <td>NaN</td>\n",
       "      <td>NaN</td>\n",
       "      <td>NaN</td>\n",
       "      <td>NaN</td>\n",
       "      <td>cover_images/processed_image_139.jpg</td>\n",
       "    </tr>\n",
       "    <tr>\n",
       "      <th>2</th>\n",
       "      <td>Beth Fantaskey</td>\n",
       "      <td>Hardcover</td>\n",
       "      <td>one thing find vampire princess whole thing ac...</td>\n",
       "      <td>https://i.gr-assets.com/images/S/compressed.ph...</td>\n",
       "      <td>547393091</td>\n",
       "      <td>9.780000e+12</td>\n",
       "      <td>https://goodreads.com/book/show/10025007-jessi...</td>\n",
       "      <td>309</td>\n",
       "      <td>3.90</td>\n",
       "      <td>853</td>\n",
       "      <td>...</td>\n",
       "      <td>Fantasy</td>\n",
       "      <td>Urban Fantasy</td>\n",
       "      <td>Fiction</td>\n",
       "      <td>Mystery</td>\n",
       "      <td>NaN</td>\n",
       "      <td>NaN</td>\n",
       "      <td>NaN</td>\n",
       "      <td>NaN</td>\n",
       "      <td>NaN</td>\n",
       "      <td>cover_images/processed_image_160.jpg</td>\n",
       "    </tr>\n",
       "    <tr>\n",
       "      <th>3</th>\n",
       "      <td>Lindsay Buroker</td>\n",
       "      <td>Kindle Edition</td>\n",
       "      <td>adventure starts imperial law enforcer amarant...</td>\n",
       "      <td>https://i.gr-assets.com/images/S/compressed.ph...</td>\n",
       "      <td>NaN</td>\n",
       "      <td>NaN</td>\n",
       "      <td>https://goodreads.com/book/show/10031259-the-e...</td>\n",
       "      <td>324</td>\n",
       "      <td>4.04</td>\n",
       "      <td>1378</td>\n",
       "      <td>...</td>\n",
       "      <td>Fantasy</td>\n",
       "      <td>Urban Fantasy</td>\n",
       "      <td>NaN</td>\n",
       "      <td>NaN</td>\n",
       "      <td>NaN</td>\n",
       "      <td>NaN</td>\n",
       "      <td>NaN</td>\n",
       "      <td>NaN</td>\n",
       "      <td>NaN</td>\n",
       "      <td>cover_images/processed_image_236.jpg</td>\n",
       "    </tr>\n",
       "    <tr>\n",
       "      <th>4</th>\n",
       "      <td>Larry Niven</td>\n",
       "      <td>Paperback</td>\n",
       "      <td>phssthpok pak traveling thousand years mission...</td>\n",
       "      <td>https://i.gr-assets.com/images/S/compressed.ph...</td>\n",
       "      <td>345353129</td>\n",
       "      <td>9.780000e+12</td>\n",
       "      <td>https://goodreads.com/book/show/100344.Protector</td>\n",
       "      <td>224</td>\n",
       "      <td>4.07</td>\n",
       "      <td>252</td>\n",
       "      <td>...</td>\n",
       "      <td>Speculative Fiction</td>\n",
       "      <td>Audiobook</td>\n",
       "      <td>NaN</td>\n",
       "      <td>NaN</td>\n",
       "      <td>NaN</td>\n",
       "      <td>NaN</td>\n",
       "      <td>NaN</td>\n",
       "      <td>NaN</td>\n",
       "      <td>NaN</td>\n",
       "      <td>cover_images/processed_image_276.jpg</td>\n",
       "    </tr>\n",
       "  </tbody>\n",
       "</table>\n",
       "<p>5 rows × 33 columns</p>\n",
       "</div>"
      ],
      "text/plain": [
       "                             author      bookformat  \\\n",
       "0                       Robert Reed       Paperback   \n",
       "1  Wu Cheng'en,Arthur Waley,Hu Shih       Paperback   \n",
       "2                    Beth Fantaskey       Hardcover   \n",
       "3                   Lindsay Buroker  Kindle Edition   \n",
       "4                       Larry Niven       Paperback   \n",
       "\n",
       "                                                desc  \\\n",
       "0  ship traveled universe longer crew recall true...   \n",
       "1  probably popular book history far east classic...   \n",
       "2  one thing find vampire princess whole thing ac...   \n",
       "3  adventure starts imperial law enforcer amarant...   \n",
       "4  phssthpok pak traveling thousand years mission...   \n",
       "\n",
       "                                                 img       isbn        isbn13  \\\n",
       "0  https://i.gr-assets.com/images/S/compressed.ph...  812566572  9.780000e+12   \n",
       "1  https://i.gr-assets.com/images/S/compressed.ph...  802130860  9.780000e+12   \n",
       "2  https://i.gr-assets.com/images/S/compressed.ph...  547393091  9.780000e+12   \n",
       "3  https://i.gr-assets.com/images/S/compressed.ph...        NaN           NaN   \n",
       "4  https://i.gr-assets.com/images/S/compressed.ph...  345353129  9.780000e+12   \n",
       "\n",
       "                                                link  pages  rating  reviews  \\\n",
       "0      https://goodreads.com/book/show/100208.Marrow    512    3.82      110   \n",
       "1      https://goodreads.com/book/show/100237.Monkey    306    4.02      552   \n",
       "2  https://goodreads.com/book/show/10025007-jessi...    309    3.90      853   \n",
       "3  https://goodreads.com/book/show/10031259-the-e...    324    4.04     1378   \n",
       "4   https://goodreads.com/book/show/100344.Protector    224    4.07      252   \n",
       "\n",
       "   ...             genre_11       genre_12             genre_13 genre_14  \\\n",
       "0  ...      Science Fiction         Aliens  Speculative Fiction      NaN   \n",
       "1  ...                 Asia         Novels            Adventure      NaN   \n",
       "2  ...              Fantasy  Urban Fantasy              Fiction  Mystery   \n",
       "3  ...              Fantasy  Urban Fantasy                  NaN      NaN   \n",
       "4  ...  Speculative Fiction      Audiobook                  NaN      NaN   \n",
       "\n",
       "  genre_15 genre_16 genre_17 genre_18 genre_19  \\\n",
       "0      NaN      NaN      NaN      NaN      NaN   \n",
       "1      NaN      NaN      NaN      NaN      NaN   \n",
       "2      NaN      NaN      NaN      NaN      NaN   \n",
       "3      NaN      NaN      NaN      NaN      NaN   \n",
       "4      NaN      NaN      NaN      NaN      NaN   \n",
       "\n",
       "                            cover_image  \n",
       "0  cover_images/processed_image_111.jpg  \n",
       "1  cover_images/processed_image_139.jpg  \n",
       "2  cover_images/processed_image_160.jpg  \n",
       "3  cover_images/processed_image_236.jpg  \n",
       "4  cover_images/processed_image_276.jpg  \n",
       "\n",
       "[5 rows x 33 columns]"
      ]
     },
     "execution_count": 4,
     "metadata": {},
     "output_type": "execute_result"
    }
   ],
   "source": [
    "df.head()"
   ]
  },
  {
   "cell_type": "code",
   "execution_count": 5,
   "metadata": {},
   "outputs": [],
   "source": [
    "# Normalize the 'rating' column\n",
    "scaler = StandardScaler()\n",
    "df['rating'] = scaler.fit_transform(df['rating'].values.reshape(-1, 1))"
   ]
  },
  {
   "cell_type": "code",
   "execution_count": 6,
   "metadata": {},
   "outputs": [],
   "source": [
    "# Load and preprocess images\n",
    "def load_and_preprocess_images(image_paths):\n",
    "    images = []\n",
    "    for path in image_paths:\n",
    "        img = load_img(path, target_size=(224, 224))  # Adjust target_size as needed\n",
    "        img_array = img_to_array(img)\n",
    "        images.append(img_array)\n",
    "    return np.array(images)\n"
   ]
  },
  {
   "cell_type": "code",
   "execution_count": 7,
   "metadata": {},
   "outputs": [],
   "source": [
    "# Load and preprocess the data\n",
    "X = load_and_preprocess_images(df['cover_image'])\n",
    "y = df['rating'].values"
   ]
  },
  {
   "cell_type": "code",
   "execution_count": 8,
   "metadata": {},
   "outputs": [],
   "source": [
    "# Split the data into training and testing sets\n",
    "X_train, X_test, y_train, y_test = train_test_split(X, y, test_size=0.2, random_state=42)\n"
   ]
  },
  {
   "cell_type": "code",
   "execution_count": 9,
   "metadata": {},
   "outputs": [
    {
     "name": "stdout",
     "output_type": "stream",
     "text": [
      "WARNING:tensorflow:From c:\\Users\\runek\\AppData\\Local\\Programs\\Python\\Python311\\Lib\\site-packages\\keras\\src\\backend.py:873: The name tf.get_default_graph is deprecated. Please use tf.compat.v1.get_default_graph instead.\n",
      "\n",
      "WARNING:tensorflow:From c:\\Users\\runek\\AppData\\Local\\Programs\\Python\\Python311\\Lib\\site-packages\\keras\\src\\layers\\pooling\\max_pooling2d.py:161: The name tf.nn.max_pool is deprecated. Please use tf.nn.max_pool2d instead.\n",
      "\n"
     ]
    }
   ],
   "source": [
    "# Create the CNN model for regression\n",
    "model = models.Sequential()\n",
    "model.add(layers.Conv2D(32, (3, 3), activation='relu', input_shape=(224, 224, 3)))\n",
    "model.add(layers.MaxPooling2D((2, 2)))\n",
    "model.add(layers.Conv2D(64, (3, 3), activation='relu'))\n",
    "model.add(layers.MaxPooling2D((2, 2)))\n",
    "model.add(layers.Conv2D(128, (3, 3), activation='relu'))\n",
    "model.add(layers.MaxPooling2D((2, 2)))\n",
    "model.add(layers.Flatten())\n",
    "model.add(layers.Dense(128, activation='relu'))\n",
    "model.add(layers.Dense(1, activation='linear'))  # Output layer for regression using linear activation\n"
   ]
  },
  {
   "cell_type": "code",
   "execution_count": 10,
   "metadata": {},
   "outputs": [
    {
     "name": "stdout",
     "output_type": "stream",
     "text": [
      "WARNING:tensorflow:From c:\\Users\\runek\\AppData\\Local\\Programs\\Python\\Python311\\Lib\\site-packages\\keras\\src\\optimizers\\__init__.py:309: The name tf.train.Optimizer is deprecated. Please use tf.compat.v1.train.Optimizer instead.\n",
      "\n"
     ]
    }
   ],
   "source": [
    "model.compile(optimizer='adam',\n",
    "              loss='mean_squared_error',  # Use mean squared error for regression\n",
    "              metrics=['mae'])  # Use mean absolute error as a metric"
   ]
  },
  {
   "cell_type": "code",
   "execution_count": 11,
   "metadata": {},
   "outputs": [
    {
     "name": "stdout",
     "output_type": "stream",
     "text": [
      "Epoch 1/10\n",
      "WARNING:tensorflow:From c:\\Users\\runek\\AppData\\Local\\Programs\\Python\\Python311\\Lib\\site-packages\\keras\\src\\utils\\tf_utils.py:492: The name tf.ragged.RaggedTensorValue is deprecated. Please use tf.compat.v1.ragged.RaggedTensorValue instead.\n",
      "\n",
      "WARNING:tensorflow:From c:\\Users\\runek\\AppData\\Local\\Programs\\Python\\Python311\\Lib\\site-packages\\keras\\src\\engine\\base_layer_utils.py:384: The name tf.executing_eagerly_outside_functions is deprecated. Please use tf.compat.v1.executing_eagerly_outside_functions instead.\n",
      "\n",
      "119/119 [==============================] - 51s 413ms/step - loss: 154899.4062 - mae: 48.2682 - val_loss: 1.1799 - val_mae: 0.8625\n",
      "Epoch 2/10\n",
      "119/119 [==============================] - 48s 403ms/step - loss: 1.0413 - mae: 0.8114 - val_loss: 1.1236 - val_mae: 0.8420\n",
      "Epoch 3/10\n",
      "119/119 [==============================] - 48s 405ms/step - loss: 0.9474 - mae: 0.7708 - val_loss: 1.1053 - val_mae: 0.8351\n",
      "Epoch 4/10\n",
      "119/119 [==============================] - 48s 403ms/step - loss: 0.8645 - mae: 0.7307 - val_loss: 1.0988 - val_mae: 0.8307\n",
      "Epoch 5/10\n",
      "119/119 [==============================] - 48s 402ms/step - loss: 0.7966 - mae: 0.6942 - val_loss: 1.1420 - val_mae: 0.8436\n",
      "Epoch 6/10\n",
      "119/119 [==============================] - 50s 425ms/step - loss: 0.7217 - mae: 0.6535 - val_loss: 1.1497 - val_mae: 0.8444\n",
      "Epoch 7/10\n",
      "119/119 [==============================] - 49s 409ms/step - loss: 0.6655 - mae: 0.6239 - val_loss: 1.2212 - val_mae: 0.8773\n",
      "Epoch 8/10\n",
      "119/119 [==============================] - 48s 403ms/step - loss: 0.6234 - mae: 0.5972 - val_loss: 1.1820 - val_mae: 0.8577\n",
      "Epoch 9/10\n",
      "119/119 [==============================] - 48s 403ms/step - loss: 0.5805 - mae: 0.5686 - val_loss: 1.2251 - val_mae: 0.8785\n",
      "Epoch 10/10\n",
      "119/119 [==============================] - 48s 403ms/step - loss: 0.5441 - mae: 0.5437 - val_loss: 1.3151 - val_mae: 0.9054\n"
     ]
    },
    {
     "data": {
      "text/plain": [
       "<keras.src.callbacks.History at 0x20250c17150>"
      ]
     },
     "execution_count": 11,
     "metadata": {},
     "output_type": "execute_result"
    }
   ],
   "source": [
    "# Train the model\n",
    "model.fit(X_train, y_train, epochs=10, validation_data=(X_test, y_test))"
   ]
  },
  {
   "cell_type": "code",
   "execution_count": 13,
   "metadata": {},
   "outputs": [],
   "source": [
    "import requests\n",
    "from PIL import Image"
   ]
  },
  {
   "cell_type": "code",
   "execution_count": 70,
   "metadata": {},
   "outputs": [],
   "source": [
    "new_books = {'title': ['Iron Widow', 'The Long Way to a Small Angry Planet', 'Tress of the Emerald Sea'], 'bookformat': ['hardback', 'paperback', 'hardback'], \n",
    "'pages': [391, 518, 483], \n",
    "'reviews':[17322, 21239, 15256], 'totalratings': [77713, 143843, 98422], \n",
    "'img': ['https://images-na.ssl-images-amazon.com/images/S/compressed.photo.goodreads.com/books/1617986668i/52459864.jpg', \n",
    "'https://images-na.ssl-images-amazon.com/images/S/compressed.photo.goodreads.com/books/1405532474i/22733729.jpg', \n",
    "'https://images-na.ssl-images-amazon.com/images/S/compressed.photo.goodreads.com/books/1672574587i/60531406.jpg']}\n",
    "df_new = pd.DataFrame(new_books)"
   ]
  },
  {
   "cell_type": "code",
   "execution_count": 71,
   "metadata": {},
   "outputs": [
    {
     "data": {
      "text/html": [
       "<div>\n",
       "<style scoped>\n",
       "    .dataframe tbody tr th:only-of-type {\n",
       "        vertical-align: middle;\n",
       "    }\n",
       "\n",
       "    .dataframe tbody tr th {\n",
       "        vertical-align: top;\n",
       "    }\n",
       "\n",
       "    .dataframe thead th {\n",
       "        text-align: right;\n",
       "    }\n",
       "</style>\n",
       "<table border=\"1\" class=\"dataframe\">\n",
       "  <thead>\n",
       "    <tr style=\"text-align: right;\">\n",
       "      <th></th>\n",
       "      <th>title</th>\n",
       "      <th>bookformat</th>\n",
       "      <th>pages</th>\n",
       "      <th>reviews</th>\n",
       "      <th>totalratings</th>\n",
       "      <th>img</th>\n",
       "    </tr>\n",
       "  </thead>\n",
       "  <tbody>\n",
       "    <tr>\n",
       "      <th>0</th>\n",
       "      <td>Iron Widow</td>\n",
       "      <td>hardback</td>\n",
       "      <td>391</td>\n",
       "      <td>17322</td>\n",
       "      <td>77713</td>\n",
       "      <td>https://images-na.ssl-images-amazon.com/images...</td>\n",
       "    </tr>\n",
       "    <tr>\n",
       "      <th>1</th>\n",
       "      <td>The Long Way to a Small Angry Planet</td>\n",
       "      <td>paperback</td>\n",
       "      <td>518</td>\n",
       "      <td>21239</td>\n",
       "      <td>143843</td>\n",
       "      <td>https://images-na.ssl-images-amazon.com/images...</td>\n",
       "    </tr>\n",
       "    <tr>\n",
       "      <th>2</th>\n",
       "      <td>Tress of the Emerald Sea</td>\n",
       "      <td>hardback</td>\n",
       "      <td>483</td>\n",
       "      <td>15256</td>\n",
       "      <td>98422</td>\n",
       "      <td>https://images-na.ssl-images-amazon.com/images...</td>\n",
       "    </tr>\n",
       "  </tbody>\n",
       "</table>\n",
       "</div>"
      ],
      "text/plain": [
       "                                  title bookformat  pages  reviews  \\\n",
       "0                            Iron Widow   hardback    391    17322   \n",
       "1  The Long Way to a Small Angry Planet  paperback    518    21239   \n",
       "2              Tress of the Emerald Sea   hardback    483    15256   \n",
       "\n",
       "   totalratings                                                img  \n",
       "0         77713  https://images-na.ssl-images-amazon.com/images...  \n",
       "1        143843  https://images-na.ssl-images-amazon.com/images...  \n",
       "2         98422  https://images-na.ssl-images-amazon.com/images...  "
      ]
     },
     "execution_count": 71,
     "metadata": {},
     "output_type": "execute_result"
    }
   ],
   "source": [
    "df_new.head()"
   ]
  },
  {
   "cell_type": "code",
   "execution_count": 72,
   "metadata": {},
   "outputs": [],
   "source": [
    "def download_images_and_process(df_new, url_column, output_folder):\n",
    "    total_processed = 0  # Initialize a counter for total records processed\n",
    "\n",
    "    for index, row in df_new.iterrows():\n",
    "        image_url = row[url_column]\n",
    "        response = requests.get(image_url)\n",
    "\n",
    "        if response.status_code == 200:\n",
    "            try:\n",
    "                # Downloaded image file path\n",
    "                file_path = f'{output_folder}/image_{index}.jpg'\n",
    "\n",
    "                # Save the image file\n",
    "                with open(file_path, 'wb') as file:\n",
    "                    file.write(response.content)\n",
    "\n",
    "                # Image processing\n",
    "                image = Image.open(file_path)\n",
    "\n",
    "                # Convert the image to RGB\n",
    "                image = image.convert('RGB')\n",
    "\n",
    "                # Resize the image to a consistent size (e.g., 100x100 pixels)\n",
    "                image = image.resize((100, 100))\n",
    "                \n",
    "                # Save the processed image\n",
    "                processed_file_path = f'{output_folder}/processed_image_{index}.jpg'\n",
    "                image.save(processed_file_path)\n",
    "\n",
    "                print(f'Image {index} downloaded and processed successfully. Saved to {processed_file_path}')\n",
    "\n",
    "                # Update DataFrame with processed image path\n",
    "                df_new.at[index, 'cover_image'] = processed_file_path\n",
    "\n",
    "                # Increment the counter\n",
    "                total_processed += 1\n",
    "\n",
    "                # Print the total number of records processed at each iteration\n",
    "                print(f'Total number of records processed so far: {total_processed}')\n",
    "\n",
    "            except Exception as e:\n",
    "                print(f'Error processing image {index}: {str(e)}')\n",
    "\n",
    "        else:\n",
    "            print(f'Failed to download image {index}. Status code: {response.status_code}')\n",
    "\n",
    "    print(f'Total number of records processed: {total_processed}')"
   ]
  },
  {
   "cell_type": "code",
   "execution_count": 73,
   "metadata": {},
   "outputs": [
    {
     "name": "stdout",
     "output_type": "stream",
     "text": [
      "Image 0 downloaded and processed successfully. Saved to new_book_covers/processed_image_0.jpg\n",
      "Total number of records processed so far: 1\n",
      "Image 1 downloaded and processed successfully. Saved to new_book_covers/processed_image_1.jpg\n",
      "Total number of records processed so far: 2\n",
      "Image 2 downloaded and processed successfully. Saved to new_book_covers/processed_image_2.jpg\n",
      "Total number of records processed so far: 3\n",
      "Total number of records processed: 3\n"
     ]
    }
   ],
   "source": [
    "output_folder = 'new_book_covers'\n",
    "\n",
    "url_column = 'img'\n",
    "\n",
    "download_images_and_process(df_new, url_column, output_folder)"
   ]
  },
  {
   "cell_type": "code",
   "execution_count": 74,
   "metadata": {},
   "outputs": [
    {
     "data": {
      "text/html": [
       "<div>\n",
       "<style scoped>\n",
       "    .dataframe tbody tr th:only-of-type {\n",
       "        vertical-align: middle;\n",
       "    }\n",
       "\n",
       "    .dataframe tbody tr th {\n",
       "        vertical-align: top;\n",
       "    }\n",
       "\n",
       "    .dataframe thead th {\n",
       "        text-align: right;\n",
       "    }\n",
       "</style>\n",
       "<table border=\"1\" class=\"dataframe\">\n",
       "  <thead>\n",
       "    <tr style=\"text-align: right;\">\n",
       "      <th></th>\n",
       "      <th>title</th>\n",
       "      <th>bookformat</th>\n",
       "      <th>pages</th>\n",
       "      <th>reviews</th>\n",
       "      <th>totalratings</th>\n",
       "      <th>img</th>\n",
       "      <th>cover_image</th>\n",
       "    </tr>\n",
       "  </thead>\n",
       "  <tbody>\n",
       "    <tr>\n",
       "      <th>0</th>\n",
       "      <td>Iron Widow</td>\n",
       "      <td>hardback</td>\n",
       "      <td>391</td>\n",
       "      <td>17322</td>\n",
       "      <td>77713</td>\n",
       "      <td>https://images-na.ssl-images-amazon.com/images...</td>\n",
       "      <td>new_book_covers/processed_image_0.jpg</td>\n",
       "    </tr>\n",
       "    <tr>\n",
       "      <th>1</th>\n",
       "      <td>The Long Way to a Small Angry Planet</td>\n",
       "      <td>paperback</td>\n",
       "      <td>518</td>\n",
       "      <td>21239</td>\n",
       "      <td>143843</td>\n",
       "      <td>https://images-na.ssl-images-amazon.com/images...</td>\n",
       "      <td>new_book_covers/processed_image_1.jpg</td>\n",
       "    </tr>\n",
       "    <tr>\n",
       "      <th>2</th>\n",
       "      <td>Tress of the Emerald Sea</td>\n",
       "      <td>hardback</td>\n",
       "      <td>483</td>\n",
       "      <td>15256</td>\n",
       "      <td>98422</td>\n",
       "      <td>https://images-na.ssl-images-amazon.com/images...</td>\n",
       "      <td>new_book_covers/processed_image_2.jpg</td>\n",
       "    </tr>\n",
       "  </tbody>\n",
       "</table>\n",
       "</div>"
      ],
      "text/plain": [
       "                                  title bookformat  pages  reviews  \\\n",
       "0                            Iron Widow   hardback    391    17322   \n",
       "1  The Long Way to a Small Angry Planet  paperback    518    21239   \n",
       "2              Tress of the Emerald Sea   hardback    483    15256   \n",
       "\n",
       "   totalratings                                                img  \\\n",
       "0         77713  https://images-na.ssl-images-amazon.com/images...   \n",
       "1        143843  https://images-na.ssl-images-amazon.com/images...   \n",
       "2         98422  https://images-na.ssl-images-amazon.com/images...   \n",
       "\n",
       "                             cover_image  \n",
       "0  new_book_covers/processed_image_0.jpg  \n",
       "1  new_book_covers/processed_image_1.jpg  \n",
       "2  new_book_covers/processed_image_2.jpg  "
      ]
     },
     "execution_count": 74,
     "metadata": {},
     "output_type": "execute_result"
    }
   ],
   "source": [
    "df_new.head()"
   ]
  },
  {
   "cell_type": "code",
   "execution_count": 75,
   "metadata": {},
   "outputs": [],
   "source": [
    "df_new = df_new.drop(['img'], axis = 1)"
   ]
  },
  {
   "cell_type": "code",
   "execution_count": 76,
   "metadata": {},
   "outputs": [
    {
     "data": {
      "text/html": [
       "<div>\n",
       "<style scoped>\n",
       "    .dataframe tbody tr th:only-of-type {\n",
       "        vertical-align: middle;\n",
       "    }\n",
       "\n",
       "    .dataframe tbody tr th {\n",
       "        vertical-align: top;\n",
       "    }\n",
       "\n",
       "    .dataframe thead th {\n",
       "        text-align: right;\n",
       "    }\n",
       "</style>\n",
       "<table border=\"1\" class=\"dataframe\">\n",
       "  <thead>\n",
       "    <tr style=\"text-align: right;\">\n",
       "      <th></th>\n",
       "      <th>title</th>\n",
       "      <th>bookformat</th>\n",
       "      <th>pages</th>\n",
       "      <th>reviews</th>\n",
       "      <th>totalratings</th>\n",
       "      <th>cover_image</th>\n",
       "    </tr>\n",
       "  </thead>\n",
       "  <tbody>\n",
       "    <tr>\n",
       "      <th>0</th>\n",
       "      <td>Iron Widow</td>\n",
       "      <td>hardback</td>\n",
       "      <td>391</td>\n",
       "      <td>17322</td>\n",
       "      <td>77713</td>\n",
       "      <td>new_book_covers/processed_image_0.jpg</td>\n",
       "    </tr>\n",
       "    <tr>\n",
       "      <th>1</th>\n",
       "      <td>The Long Way to a Small Angry Planet</td>\n",
       "      <td>paperback</td>\n",
       "      <td>518</td>\n",
       "      <td>21239</td>\n",
       "      <td>143843</td>\n",
       "      <td>new_book_covers/processed_image_1.jpg</td>\n",
       "    </tr>\n",
       "    <tr>\n",
       "      <th>2</th>\n",
       "      <td>Tress of the Emerald Sea</td>\n",
       "      <td>hardback</td>\n",
       "      <td>483</td>\n",
       "      <td>15256</td>\n",
       "      <td>98422</td>\n",
       "      <td>new_book_covers/processed_image_2.jpg</td>\n",
       "    </tr>\n",
       "  </tbody>\n",
       "</table>\n",
       "</div>"
      ],
      "text/plain": [
       "                                  title bookformat  pages  reviews  \\\n",
       "0                            Iron Widow   hardback    391    17322   \n",
       "1  The Long Way to a Small Angry Planet  paperback    518    21239   \n",
       "2              Tress of the Emerald Sea   hardback    483    15256   \n",
       "\n",
       "   totalratings                            cover_image  \n",
       "0         77713  new_book_covers/processed_image_0.jpg  \n",
       "1        143843  new_book_covers/processed_image_1.jpg  \n",
       "2         98422  new_book_covers/processed_image_2.jpg  "
      ]
     },
     "execution_count": 76,
     "metadata": {},
     "output_type": "execute_result"
    }
   ],
   "source": [
    "df_new"
   ]
  },
  {
   "cell_type": "code",
   "execution_count": 77,
   "metadata": {},
   "outputs": [
    {
     "name": "stdout",
     "output_type": "stream",
     "text": [
      "1/1 [==============================] - 0s 22ms/step\n",
      "Predicted Rating for Iron Widow: 3.912872076034546\n",
      "1/1 [==============================] - 0s 28ms/step\n",
      "Predicted Rating for The Long Way to a Small Angry Planet: 3.8456685543060303\n",
      "1/1 [==============================] - 0s 23ms/step\n",
      "Predicted Rating for Tress of the Emerald Sea: 3.9531025886535645\n"
     ]
    }
   ],
   "source": [
    "def preprocess_image(image_path):\n",
    "    img = load_img(image_path, target_size = (224, 224))\n",
    "    img_array = img_to_array(img)\n",
    "    img_array = np.expand_dims(img_array, axis = 0)\n",
    "    \n",
    "    return img_array\n",
    "\n",
    "for index, row in df_new.iterrows():\n",
    "    cover_path = row['cover_image']\n",
    "    book_title = row['title']\n",
    "    \n",
    "    new_cover = preprocess_image(cover_path)\n",
    "    predicted_rating = model.predict(new_cover)\n",
    "    predicted_rating = scaler.inverse_transform(predicted_rating.reshape(-1, 1))\n",
    "    \n",
    "    print(f'Predicted Rating for {book_title}: {predicted_rating[0][0]}')"
   ]
  }
 ],
 "metadata": {
  "kernelspec": {
   "display_name": "Python 3",
   "language": "python",
   "name": "python3"
  },
  "language_info": {
   "codemirror_mode": {
    "name": "ipython",
    "version": 3
   },
   "file_extension": ".py",
   "mimetype": "text/x-python",
   "name": "python",
   "nbconvert_exporter": "python",
   "pygments_lexer": "ipython3",
   "version": "3.11.5"
  }
 },
 "nbformat": 4,
 "nbformat_minor": 2
}
