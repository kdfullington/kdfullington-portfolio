{
 "cells": [
  {
   "cell_type": "code",
   "execution_count": null,
   "metadata": {},
   "outputs": [],
   "source": [
    "import pandas as pd\n",
    "from PIL import Image\n",
    "import numpy as np"
   ]
  },
  {
   "cell_type": "code",
   "execution_count": null,
   "metadata": {},
   "outputs": [],
   "source": [
    "df = pd.read_csv('book_w_images.csv')"
   ]
  },
  {
   "cell_type": "code",
   "execution_count": null,
   "metadata": {},
   "outputs": [],
   "source": [
    "# df = pd.read_csv('book_w_image_engineering_draft1.csv')"
   ]
  },
  {
   "cell_type": "code",
   "execution_count": null,
   "metadata": {},
   "outputs": [],
   "source": [
    "df = df.drop(['genre_0', 'genre_1', 'genre_2', 'genre_3', 'genre_4', 'genre_5', 'genre_6', 'genre_7', 'genre_8', 'genre_9', 'genre_10', 'genre_11', \n",
    "              'genre_12', 'genre_13', 'genre_14', 'genre_15', 'genre_16', 'genre_17', 'genre_18', 'genre_19'], axis = 1)"
   ]
  },
  {
   "cell_type": "code",
   "execution_count": null,
   "metadata": {},
   "outputs": [],
   "source": [
    "df = df[df.pages > 0]\n",
    "df = df[df.totalratings < 10000]"
   ]
  },
  {
   "cell_type": "code",
   "execution_count": null,
   "metadata": {},
   "outputs": [
    {
     "data": {
      "text/html": [
       "<div>\n",
       "<style scoped>\n",
       "    .dataframe tbody tr th:only-of-type {\n",
       "        vertical-align: middle;\n",
       "    }\n",
       "\n",
       "    .dataframe tbody tr th {\n",
       "        vertical-align: top;\n",
       "    }\n",
       "\n",
       "    .dataframe thead th {\n",
       "        text-align: right;\n",
       "    }\n",
       "</style>\n",
       "<table border=\"1\" class=\"dataframe\">\n",
       "  <thead>\n",
       "    <tr style=\"text-align: right;\">\n",
       "      <th></th>\n",
       "      <th>author</th>\n",
       "      <th>bookformat</th>\n",
       "      <th>desc</th>\n",
       "      <th>img</th>\n",
       "      <th>isbn</th>\n",
       "      <th>isbn13</th>\n",
       "      <th>link</th>\n",
       "      <th>pages</th>\n",
       "      <th>rating</th>\n",
       "      <th>reviews</th>\n",
       "      <th>title</th>\n",
       "      <th>totalratings</th>\n",
       "      <th>cover_image</th>\n",
       "    </tr>\n",
       "  </thead>\n",
       "  <tbody>\n",
       "    <tr>\n",
       "      <th>0</th>\n",
       "      <td>Robert Reed</td>\n",
       "      <td>Paperback</td>\n",
       "      <td>ship traveled universe longer crew recall true...</td>\n",
       "      <td>https://i.gr-assets.com/images/S/compressed.ph...</td>\n",
       "      <td>812566572</td>\n",
       "      <td>9.780000e+12</td>\n",
       "      <td>https://goodreads.com/book/show/100208.Marrow</td>\n",
       "      <td>512</td>\n",
       "      <td>3.82</td>\n",
       "      <td>110</td>\n",
       "      <td>Marrow</td>\n",
       "      <td>2051</td>\n",
       "      <td>cover_images/processed_image_111.jpg</td>\n",
       "    </tr>\n",
       "    <tr>\n",
       "      <th>1</th>\n",
       "      <td>Wu Cheng'en,Arthur Waley,Hu Shih</td>\n",
       "      <td>Paperback</td>\n",
       "      <td>probably popular book history far east classic...</td>\n",
       "      <td>https://i.gr-assets.com/images/S/compressed.ph...</td>\n",
       "      <td>802130860</td>\n",
       "      <td>9.780000e+12</td>\n",
       "      <td>https://goodreads.com/book/show/100237.Monkey</td>\n",
       "      <td>306</td>\n",
       "      <td>4.02</td>\n",
       "      <td>552</td>\n",
       "      <td>Monkey: The Journey to the West</td>\n",
       "      <td>6147</td>\n",
       "      <td>cover_images/processed_image_139.jpg</td>\n",
       "    </tr>\n",
       "  </tbody>\n",
       "</table>\n",
       "</div>"
      ],
      "text/plain": [
       "                             author bookformat  \\\n",
       "0                       Robert Reed  Paperback   \n",
       "1  Wu Cheng'en,Arthur Waley,Hu Shih  Paperback   \n",
       "\n",
       "                                                desc  \\\n",
       "0  ship traveled universe longer crew recall true...   \n",
       "1  probably popular book history far east classic...   \n",
       "\n",
       "                                                 img       isbn        isbn13  \\\n",
       "0  https://i.gr-assets.com/images/S/compressed.ph...  812566572  9.780000e+12   \n",
       "1  https://i.gr-assets.com/images/S/compressed.ph...  802130860  9.780000e+12   \n",
       "\n",
       "                                            link  pages  rating  reviews  \\\n",
       "0  https://goodreads.com/book/show/100208.Marrow    512    3.82      110   \n",
       "1  https://goodreads.com/book/show/100237.Monkey    306    4.02      552   \n",
       "\n",
       "                             title  totalratings  \\\n",
       "0                           Marrow          2051   \n",
       "1  Monkey: The Journey to the West          6147   \n",
       "\n",
       "                            cover_image  \n",
       "0  cover_images/processed_image_111.jpg  \n",
       "1  cover_images/processed_image_139.jpg  "
      ]
     },
     "metadata": {},
     "output_type": "display_data"
    }
   ],
   "source": [
    "df.head(2)"
   ]
  },
  {
   "cell_type": "code",
   "execution_count": null,
   "metadata": {},
   "outputs": [],
   "source": [
    "df = df.drop(['title', 'link', 'isbn13', 'isbn', 'img', 'desc', 'author'\n",
    "            #   , 'cover_image'\n",
    "              ], axis = 1)\n",
    "# df = df.drop(['author', 'desc', 'title', 'img', 'isbn', 'isbn13', 'link','cover_image'\n",
    "#             #   ], axis = 1)\n",
    "# df = df.drop(['title', 'author', 'Unnamed: 0', 'desc'])"
   ]
  },
  {
   "cell_type": "code",
   "execution_count": null,
   "metadata": {},
   "outputs": [],
   "source": [
    "df['numerical_representation'] = ''\n",
    "path_column = 'cover_image'\n",
    "\n",
    "df['color_hist'] = ''"
   ]
  },
  {
   "cell_type": "code",
   "execution_count": null,
   "metadata": {},
   "outputs": [],
   "source": [
    "def numerize_images(df, path_column):\n",
    "    for index, row in df.iterrows():\n",
    "        image_path = row[path_column]\n",
    "\n",
    "        try:\n",
    "            # Image processing\n",
    "            image = Image.open(image_path)\n",
    "            \n",
    "            # Convert the image to grayscale\n",
    "            image = image.convert('L')\n",
    "\n",
    "            # Resize the image to a consistent size (e.g., 100x100 pixels)\n",
    "            image = image.resize((100, 100))\n",
    "\n",
    "            # Convert the image to a numerical representation (pixel values)\n",
    "            image_array = np.array(image).flatten()\n",
    "\n",
    "            # Update DataFrame with numerical representation\n",
    "            df.at[index, 'numerical_representation'] = list(image_array)\n",
    "        except OSError as e:\n",
    "            print(f'Failed to process image {index}. OSError: {e}')\n",
    "\n",
    "# Example usage:\n",
    "# Assuming 'image_path_column' is the column containing paths to JPEGs\n",
    "# Assuming 'df' is your DataFrame\n",
    "numerize_images(df, path_column)"
   ]
  },
  {
   "cell_type": "code",
   "execution_count": null,
   "metadata": {},
   "outputs": [],
   "source": [
    "def compute_color_histogram(image):\n",
    "    # Convert the image to RGB mode if not already\n",
    "    image_rgb = image.convert('RGB')\n",
    "\n",
    "    # Compute the color histogram\n",
    "    histogram = np.array(image_rgb.histogram())\n",
    "\n",
    "    # Normalize the histogram\n",
    "    histogram = histogram / sum(histogram)\n",
    "\n",
    "    return list(histogram)\n",
    "\n",
    "def extract_color_histograms(df, path_column):\n",
    "    # Create a list to store color histograms\n",
    "    color_histograms = []\n",
    "\n",
    "    for index, row in df.iterrows():\n",
    "        image_path = row[path_column]\n",
    "\n",
    "        try:\n",
    "            # Image processing\n",
    "            image = Image.open(image_path)\n",
    "\n",
    "            # Compute color histogram\n",
    "            color_histogram = compute_color_histogram(image)\n",
    "\n",
    "            # Append the entire color histogram to the list\n",
    "            color_histograms.append(color_histogram)\n",
    "        except OSError as e:\n",
    "            print(f'Failed to process image {index}. OSError: {e}')\n",
    "\n",
    "    # Add the 'color_hist' column to the DataFrame\n",
    "    df['color_hist'] = color_histograms\n",
    "\n",
    "# Example usage:\n",
    "# Assuming 'cover_image' is the column containing paths to JPEGs\n",
    "# Assuming 'df' is your DataFrame\n",
    "path_column = 'cover_image'\n",
    "extract_color_histograms(df, path_column)"
   ]
  },
  {
   "cell_type": "code",
   "execution_count": null,
   "metadata": {},
   "outputs": [
    {
     "data": {
      "text/html": [
       "<div>\n",
       "<style scoped>\n",
       "    .dataframe tbody tr th:only-of-type {\n",
       "        vertical-align: middle;\n",
       "    }\n",
       "\n",
       "    .dataframe tbody tr th {\n",
       "        vertical-align: top;\n",
       "    }\n",
       "\n",
       "    .dataframe thead th {\n",
       "        text-align: right;\n",
       "    }\n",
       "</style>\n",
       "<table border=\"1\" class=\"dataframe\">\n",
       "  <thead>\n",
       "    <tr style=\"text-align: right;\">\n",
       "      <th></th>\n",
       "      <th>bookformat</th>\n",
       "      <th>pages</th>\n",
       "      <th>rating</th>\n",
       "      <th>reviews</th>\n",
       "      <th>totalratings</th>\n",
       "      <th>cover_image</th>\n",
       "      <th>numerical_representation</th>\n",
       "      <th>color_hist</th>\n",
       "    </tr>\n",
       "  </thead>\n",
       "  <tbody>\n",
       "    <tr>\n",
       "      <th>0</th>\n",
       "      <td>Paperback</td>\n",
       "      <td>512</td>\n",
       "      <td>3.82</td>\n",
       "      <td>110</td>\n",
       "      <td>2051</td>\n",
       "      <td>cover_images/processed_image_111.jpg</td>\n",
       "      <td>[160, 186, 182, 182, 186, 182, 188, 185, 183, ...</td>\n",
       "      <td>[0.0006333333333333333, 0.0002666666666666667,...</td>\n",
       "    </tr>\n",
       "  </tbody>\n",
       "</table>\n",
       "</div>"
      ],
      "text/plain": [
       "  bookformat  pages  rating  reviews  totalratings  \\\n",
       "0  Paperback    512    3.82      110          2051   \n",
       "\n",
       "                            cover_image  \\\n",
       "0  cover_images/processed_image_111.jpg   \n",
       "\n",
       "                            numerical_representation  \\\n",
       "0  [160, 186, 182, 182, 186, 182, 188, 185, 183, ...   \n",
       "\n",
       "                                          color_hist  \n",
       "0  [0.0006333333333333333, 0.0002666666666666667,...  "
      ]
     },
     "metadata": {},
     "output_type": "display_data"
    }
   ],
   "source": [
    "df.head(1)"
   ]
  },
  {
   "cell_type": "code",
   "execution_count": null,
   "metadata": {},
   "outputs": [],
   "source": [
    "df = df.drop(['cover_image'], axis = 1)"
   ]
  },
  {
   "cell_type": "code",
   "execution_count": null,
   "metadata": {},
   "outputs": [],
   "source": [
    "# Flatten the columns with lists\n",
    "df_flat = df.apply(lambda x: pd.Series(x['numerical_representation'] + x['color_hist']), axis=1)\n",
    "\n",
    "# Concatenate the flattened columns with the original DataFrame\n",
    "df_result = pd.concat([df, df_flat], axis=1)\n",
    "\n",
    "# Drop the original list columns\n",
    "df = df_result.drop(['numerical_representation', 'color_hist'], axis=1)"
   ]
  },
  {
   "cell_type": "code",
   "execution_count": null,
   "metadata": {},
   "outputs": [],
   "source": [
    "# Specify the column to create dummies\n",
    "column_to_dummy = 'bookformat'\n",
    "\n",
    "# Create dummies for the specified column\n",
    "dummies = pd.get_dummies(df[column_to_dummy], prefix = column_to_dummy)\n",
    "\n",
    "# Concatenate the dummies with the original DataFrame, keeping other columns\n",
    "df_with_dummies = pd.concat([df, dummies], axis = 1)\n",
    "\n",
    "# Drop the original column for which dummies are created\n",
    "df = df_with_dummies.drop(column_to_dummy, axis=1)"
   ]
  },
  {
   "cell_type": "code",
   "execution_count": null,
   "metadata": {},
   "outputs": [],
   "source": [
    "df.columns = df.columns.astype(str)"
   ]
  },
  {
   "cell_type": "code",
   "execution_count": null,
   "metadata": {},
   "outputs": [],
   "source": [
    "df.to_csv('book_df_final.csv')"
   ]
  }
 ],
 "metadata": {
  "language_info": {
   "name": "python"
  }
 },
 "nbformat": 4,
 "nbformat_minor": 2
}
